{
 "cells": [
  {
   "cell_type": "code",
   "execution_count": 1,
   "id": "de948ba8",
   "metadata": {},
   "outputs": [
    {
     "data": {
      "text/plain": [
       "'\\ncreated on: 24/08/21 23:04\\nauthor: @preet\\n'"
      ]
     },
     "execution_count": 1,
     "metadata": {},
     "output_type": "execute_result"
    }
   ],
   "source": [
    "\"\"\"\n",
    "created on: 24/08/21 23:04\n",
    "author: @preet\n",
    "\"\"\""
   ]
  },
  {
   "cell_type": "markdown",
   "id": "2a820e48",
   "metadata": {},
   "source": [
    "# Object Detection Using Yolo with OpenCV\n",
    "I have used the following dataset from kaggle: https://www.kaggle.com/valentynsichkar/yolo-coco-data"
   ]
  },
  {
   "cell_type": "code",
   "execution_count": 1,
   "id": "4400bf8c",
   "metadata": {},
   "outputs": [],
   "source": [
    "# Import the required libraries\n",
    "import cv2\n",
    "import numpy as np"
   ]
  },
  {
   "cell_type": "code",
   "execution_count": 2,
   "id": "bcad268e",
   "metadata": {},
   "outputs": [],
   "source": [
    "# Load Yolo\n",
    "net = cv2.dnn.readNet(\"yolov3.weights\", \"yolov3.cfg\")"
   ]
  },
  {
   "cell_type": "code",
   "execution_count": 3,
   "id": "35ab288d",
   "metadata": {},
   "outputs": [
    {
     "name": "stdout",
     "output_type": "stream",
     "text": [
      "['person', 'bicycle', 'car', 'motorbike', 'aeroplane', 'bus', 'train', 'truck', 'boat', 'traffic light', 'fire hydrant', 'stop sign', 'parking meter', 'bench', 'bird', 'cat', 'dog', 'horse', 'sheep', 'cow', 'elephant', 'bear', 'zebra', 'giraffe', 'backpack', 'umbrella', 'handbag', 'tie', 'suitcase', 'frisbee', 'skis', 'snowboard', 'sports ball', 'kite', 'baseball bat', 'baseball glove', 'skateboard', 'surfboard', 'tennis racket', 'bottle', 'wine glass', 'cup', 'fork', 'knife', 'spoon', 'bowl', 'banana', 'apple', 'sandwich', 'orange', 'broccoli', 'carrot', 'hot dog', 'pizza', 'donut', 'cake', 'chair', 'sofa', 'pottedplant', 'bed', 'diningtable', 'toilet', 'tvmonitor', 'laptop', 'mouse', 'remote', 'keyboard', 'cell phone', 'microwave', 'oven', 'toaster', 'sink', 'refrigerator', 'book', 'clock', 'vase', 'scissors', 'teddy bear', 'hair drier', 'toothbrush']\n"
     ]
    }
   ],
   "source": [
    "# Load class names from 'coco.names'\n",
    "classes = []\n",
    "with open(\"coco.names\", \"r\") as f:\n",
    "    classes = [line.strip() for line in f.readlines()]\n",
    "print(classes)"
   ]
  },
  {
   "cell_type": "code",
   "execution_count": 4,
   "id": "0821f43e",
   "metadata": {},
   "outputs": [
    {
     "name": "stdout",
     "output_type": "stream",
     "text": [
      "['conv_0', 'bn_0', 'leaky_1', 'conv_1', 'bn_1', 'leaky_2', 'conv_2', 'bn_2', 'leaky_3', 'conv_3', 'bn_3', 'leaky_4', 'shortcut_4', 'conv_5', 'bn_5', 'leaky_6', 'conv_6', 'bn_6', 'leaky_7', 'conv_7', 'bn_7', 'leaky_8', 'shortcut_8', 'conv_9', 'bn_9', 'leaky_10', 'conv_10', 'bn_10', 'leaky_11', 'shortcut_11', 'conv_12', 'bn_12', 'leaky_13', 'conv_13', 'bn_13', 'leaky_14', 'conv_14', 'bn_14', 'leaky_15', 'shortcut_15', 'conv_16', 'bn_16', 'leaky_17', 'conv_17', 'bn_17', 'leaky_18', 'shortcut_18', 'conv_19', 'bn_19', 'leaky_20', 'conv_20', 'bn_20', 'leaky_21', 'shortcut_21', 'conv_22', 'bn_22', 'leaky_23', 'conv_23', 'bn_23', 'leaky_24', 'shortcut_24', 'conv_25', 'bn_25', 'leaky_26', 'conv_26', 'bn_26', 'leaky_27', 'shortcut_27', 'conv_28', 'bn_28', 'leaky_29', 'conv_29', 'bn_29', 'leaky_30', 'shortcut_30', 'conv_31', 'bn_31', 'leaky_32', 'conv_32', 'bn_32', 'leaky_33', 'shortcut_33', 'conv_34', 'bn_34', 'leaky_35', 'conv_35', 'bn_35', 'leaky_36', 'shortcut_36', 'conv_37', 'bn_37', 'leaky_38', 'conv_38', 'bn_38', 'leaky_39', 'conv_39', 'bn_39', 'leaky_40', 'shortcut_40', 'conv_41', 'bn_41', 'leaky_42', 'conv_42', 'bn_42', 'leaky_43', 'shortcut_43', 'conv_44', 'bn_44', 'leaky_45', 'conv_45', 'bn_45', 'leaky_46', 'shortcut_46', 'conv_47', 'bn_47', 'leaky_48', 'conv_48', 'bn_48', 'leaky_49', 'shortcut_49', 'conv_50', 'bn_50', 'leaky_51', 'conv_51', 'bn_51', 'leaky_52', 'shortcut_52', 'conv_53', 'bn_53', 'leaky_54', 'conv_54', 'bn_54', 'leaky_55', 'shortcut_55', 'conv_56', 'bn_56', 'leaky_57', 'conv_57', 'bn_57', 'leaky_58', 'shortcut_58', 'conv_59', 'bn_59', 'leaky_60', 'conv_60', 'bn_60', 'leaky_61', 'shortcut_61', 'conv_62', 'bn_62', 'leaky_63', 'conv_63', 'bn_63', 'leaky_64', 'conv_64', 'bn_64', 'leaky_65', 'shortcut_65', 'conv_66', 'bn_66', 'leaky_67', 'conv_67', 'bn_67', 'leaky_68', 'shortcut_68', 'conv_69', 'bn_69', 'leaky_70', 'conv_70', 'bn_70', 'leaky_71', 'shortcut_71', 'conv_72', 'bn_72', 'leaky_73', 'conv_73', 'bn_73', 'leaky_74', 'shortcut_74', 'conv_75', 'bn_75', 'leaky_76', 'conv_76', 'bn_76', 'leaky_77', 'conv_77', 'bn_77', 'leaky_78', 'conv_78', 'bn_78', 'leaky_79', 'conv_79', 'bn_79', 'leaky_80', 'conv_80', 'bn_80', 'leaky_81', 'conv_81', 'permute_82', 'yolo_82', 'identity_83', 'conv_84', 'bn_84', 'leaky_85', 'upsample_85', 'concat_86', 'conv_87', 'bn_87', 'leaky_88', 'conv_88', 'bn_88', 'leaky_89', 'conv_89', 'bn_89', 'leaky_90', 'conv_90', 'bn_90', 'leaky_91', 'conv_91', 'bn_91', 'leaky_92', 'conv_92', 'bn_92', 'leaky_93', 'conv_93', 'permute_94', 'yolo_94', 'identity_95', 'conv_96', 'bn_96', 'leaky_97', 'upsample_97', 'concat_98', 'conv_99', 'bn_99', 'leaky_100', 'conv_100', 'bn_100', 'leaky_101', 'conv_101', 'bn_101', 'leaky_102', 'conv_102', 'bn_102', 'leaky_103', 'conv_103', 'bn_103', 'leaky_104', 'conv_104', 'bn_104', 'leaky_105', 'conv_105', 'permute_106', 'yolo_106']\n"
     ]
    }
   ],
   "source": [
    "layer_names = net.getLayerNames()\n",
    "print(layer_names)"
   ]
  },
  {
   "cell_type": "code",
   "execution_count": 5,
   "id": "fe37bd70",
   "metadata": {},
   "outputs": [
    {
     "name": "stdout",
     "output_type": "stream",
     "text": [
      "['yolo_82', 'yolo_94', 'yolo_106']\n"
     ]
    }
   ],
   "source": [
    "# net.getUnconnectedOutLayers()\n",
    "# net.getUnconnectedOutLayersNames()\n",
    "outputlayers = [layer_names[i[0] - 1] for i in net.getUnconnectedOutLayers()]\n",
    "print(outputlayers)"
   ]
  },
  {
   "cell_type": "code",
   "execution_count": 8,
   "id": "4671858f",
   "metadata": {},
   "outputs": [],
   "source": [
    "# Loading the image\n",
    "img = cv2.imread(\"sample_3.jpg\")\n",
    "img = cv2.resize(img, None, fx=0.7, fy=0.7)\n",
    "height, width, channels = img.shape\n",
    "colors = np.random.uniform(0, 255, size=(len(classes),3))"
   ]
  },
  {
   "cell_type": "code",
   "execution_count": null,
   "id": "3e6433d3",
   "metadata": {},
   "outputs": [],
   "source": [
    "cv2.imshow(\"Sample Image\", img)\n",
    "cv2.waitKey(0)\n",
    "cv2.destroyAllWindows"
   ]
  },
  {
   "cell_type": "code",
   "execution_count": 10,
   "id": "241bfa7e",
   "metadata": {},
   "outputs": [],
   "source": [
    "# Detecting Objects\n",
    "blob = cv2.dnn.blobFromImage(img, 0.00392, (416,416), (0,0,0), True, crop = False)"
   ]
  },
  {
   "cell_type": "code",
   "execution_count": 38,
   "id": "309239e7",
   "metadata": {},
   "outputs": [],
   "source": [
    "for b in blob:\n",
    "    for n,img_blob in enumerate(b):\n",
    "        cv2.imshow(str(n), img_blob)\n",
    "        cv2.waitKey(1000)\n",
    "        cv2.destroyAllWindows"
   ]
  },
  {
   "cell_type": "code",
   "execution_count": 11,
   "id": "8c21e7ab",
   "metadata": {},
   "outputs": [
    {
     "name": "stdout",
     "output_type": "stream",
     "text": [
      "[array([[0.0376766 , 0.0389263 , 0.27730685, ..., 0.        , 0.        ,\n",
      "        0.        ],\n",
      "       [0.04587369, 0.03214624, 0.223802  , ..., 0.        , 0.        ,\n",
      "        0.        ],\n",
      "       [0.05648516, 0.03187547, 0.904982  , ..., 0.        , 0.        ,\n",
      "        0.        ],\n",
      "       ...,\n",
      "       [0.95926327, 0.9649099 , 0.5334992 , ..., 0.        , 0.        ,\n",
      "        0.        ],\n",
      "       [0.95919263, 0.966611  , 0.3458044 , ..., 0.        , 0.        ,\n",
      "        0.        ],\n",
      "       [0.97132564, 0.96748775, 0.8372834 , ..., 0.        , 0.        ,\n",
      "        0.        ]], dtype=float32), array([[0.02276275, 0.01817572, 0.05973727, ..., 0.        , 0.        ,\n",
      "        0.        ],\n",
      "       [0.01689335, 0.02119221, 0.29139403, ..., 0.        , 0.        ,\n",
      "        0.        ],\n",
      "       [0.02340616, 0.0182234 , 0.08689809, ..., 0.        , 0.        ,\n",
      "        0.        ],\n",
      "       ...,\n",
      "       [0.98127466, 0.9767631 , 0.03796575, ..., 0.        , 0.        ,\n",
      "        0.        ],\n",
      "       [0.9811733 , 0.9782884 , 0.3975016 , ..., 0.        , 0.        ,\n",
      "        0.        ],\n",
      "       [0.980808  , 0.98151106, 0.06921624, ..., 0.        , 0.        ,\n",
      "        0.        ]], dtype=float32), array([[0.01004701, 0.00531134, 0.02263226, ..., 0.        , 0.        ,\n",
      "        0.        ],\n",
      "       [0.01009302, 0.01035021, 0.01909463, ..., 0.        , 0.        ,\n",
      "        0.        ],\n",
      "       [0.00957605, 0.00757609, 0.1877829 , ..., 0.        , 0.        ,\n",
      "        0.        ],\n",
      "       ...,\n",
      "       [0.99116486, 0.99205166, 0.01646416, ..., 0.        , 0.        ,\n",
      "        0.        ],\n",
      "       [0.99188477, 0.9880364 , 0.01626047, ..., 0.        , 0.        ,\n",
      "        0.        ],\n",
      "       [0.9873142 , 0.99208206, 0.18525003, ..., 0.        , 0.        ,\n",
      "        0.        ]], dtype=float32)]\n"
     ]
    }
   ],
   "source": [
    "net.setInput(blob)\n",
    "outs = net.forward(outputlayers)\n",
    "print(outs)"
   ]
  },
  {
   "cell_type": "code",
   "execution_count": 12,
   "id": "904593d5",
   "metadata": {},
   "outputs": [],
   "source": [
    "boxes=[]\n",
    "class_ids=[]\n",
    "confidences=[]\n",
    "for out in outs:\n",
    "    for detection in out:\n",
    "        scores = detection[5:]\n",
    "        class_id = np.argmax(scores)\n",
    "        confidence = scores[class_id]\n",
    "        if confidence > 0.5:\n",
    "            # Object detected\n",
    "            center_x = int(detection[0]*width)\n",
    "            center_y = int(detection[1]*height)\n",
    "            w = int(detection[2]*width)\n",
    "            h = int(detection[3]*height)\n",
    "            # cv2.circle(img, (center_x, center_y), 10, (0,255,0), 2)\n",
    "            # Rectangle coordinates\n",
    "            x = int(center_x - w/2)\n",
    "            y = int(center_y - h/2)\n",
    "            # cv2.rectangle(img, (x, y), (x+w, y+h), (0, 255, 0), 2)\n",
    "            boxes.append([x, y, w, h])\n",
    "            class_ids.append(class_id)\n",
    "            confidences.append(float(confidence))"
   ]
  },
  {
   "cell_type": "code",
   "execution_count": 13,
   "id": "8bb6de4a",
   "metadata": {},
   "outputs": [],
   "source": [
    "indexes = cv2.dnn.NMSBoxes(boxes, confidences, 0.5, 0.4)\n",
    "font = cv2.FONT_HERSHEY_PLAIN\n",
    "for i in range(len(boxes)):\n",
    "    if i in indexes:\n",
    "        x, y, w, h = boxes[i]\n",
    "        label = str(classes[class_ids[i]])\n",
    "        color = colors[i]\n",
    "        cv2.rectangle(img, (x, y), (x+w, y+h), color, 2)\n",
    "        cv2.putText(img, label, (x, y+30), font, 1, color, 3)"
   ]
  },
  {
   "cell_type": "code",
   "execution_count": null,
   "id": "4198fb3b",
   "metadata": {},
   "outputs": [],
   "source": []
  }
 ],
 "metadata": {
  "kernelspec": {
   "display_name": "Python 3",
   "language": "python",
   "name": "python3"
  },
  "language_info": {
   "codemirror_mode": {
    "name": "ipython",
    "version": 3
   },
   "file_extension": ".py",
   "mimetype": "text/x-python",
   "name": "python",
   "nbconvert_exporter": "python",
   "pygments_lexer": "ipython3",
   "version": "3.8.8"
  }
 },
 "nbformat": 4,
 "nbformat_minor": 5
}
